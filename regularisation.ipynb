{
  "cells": [
    {
      "cell_type": "markdown",
      "metadata": {
        "id": "AxNoj_vRHvWV"
      },
      "source": [
        "# TP 4 Regression logistique avec régularisation\n",
        "Dans ce TP, nous aimerions faire une classification binaire en utilisant la régression.\n",
        "\n",
        "Pour ce faire, nous étudierons un ensemble de données avec la variable  (y) representant la commercialisation d'un profuit et les caractéristiques (X) representant les résultat des tests de qualité test 1 et test 2 du produit.\n",
        "\n",
        "La prédiction se fera avec l'agorithme de descente du gradient avec régularisation."
      ]
    },
    {
      "cell_type": "markdown",
      "metadata": {
        "id": "_MbR9sn6HvWy"
      },
      "source": [
        "# Importation des librairies necessaires au travail"
      ]
    },
    {
      "cell_type": "code",
      "execution_count": 24,
      "metadata": {
        "id": "Uy7OdWBZHvWz"
      },
      "outputs": [],
      "source": [
        "import numpy as np\n",
        "import matplotlib.pyplot as plt\n",
        "import sklearn.linear_model as sklearn\n"
      ]
    },
    {
      "cell_type": "markdown",
      "metadata": {
        "id": "p6z9Xz5vHvW1"
      },
      "source": [
        "# Lecture des fichiers de données\n",
        "Pour ce TP, nous allons lire les données à partir d'un fichier csv."
      ]
    },
    {
      "cell_type": "code",
      "execution_count": 3,
      "metadata": {
        "colab": {
          "base_uri": "https://localhost:8080/"
        },
        "id": "l8JaHu2MHvW2",
        "outputId": "57bafb0a-0b42-4e64-8c3d-fb20b5c6bc5f"
      },
      "outputs": [
        {
          "data": {
            "text/plain": [
              "(118, 3)"
            ]
          },
          "execution_count": 3,
          "metadata": {},
          "output_type": "execute_result"
        }
      ],
      "source": [
        "# données\n",
        "data = np.genfromtxt('data.csv', delimiter=',', dtype=float)\n",
        "data.shape"
      ]
    },
    {
      "cell_type": "markdown",
      "metadata": {
        "id": "7-wMofiOHvW4"
      },
      "source": [
        "Dans ces données (data), la première colonne represente la première note, la deuxieme colonne la deuxième note et la troisième colonne represente la commercialisation (1 oui 0 non).\n",
        "\n",
        "Chaque ligne represente un exemple de notre ensemble de données. \n",
        "\n",
        "Mettons ces données dans leus vecteurs correspondants."
      ]
    },
    {
      "cell_type": "code",
      "execution_count": 18,
      "metadata": {
        "id": "VjOxmiZoHvW5"
      },
      "outputs": [],
      "source": [
        "# rajoutons l'ordonnée à l'origine theta 0\n",
        "intercept=np.ones((data.shape[0],1))\n",
        "X=np.column_stack((intercept,data[:,0:2]))\n",
        "y = data[:, 2]"
      ]
    },
    {
      "cell_type": "code",
      "execution_count": 19,
      "metadata": {
        "colab": {
          "base_uri": "https://localhost:8080/"
        },
        "id": "qPfiW45SHvW5",
        "outputId": "0b4849db-3064-4f41-ccd7-abd7f7df00e9"
      },
      "outputs": [
        {
          "name": "stdout",
          "output_type": "stream",
          "text": [
            "X (118, 3)  y  (118,)\n"
          ]
        }
      ],
      "source": [
        "print('X', X.shape ,' y ', y.shape)"
      ]
    },
    {
      "cell_type": "markdown",
      "metadata": {
        "id": "1n4gOkpxHvW7"
      },
      "source": [
        "# Transformation de données\n",
        "Dans cette partie, nous aimerions transformer nos données afin d'avoir une fonction polynomiale de degrée 6.\n",
        "\n",
        "La fonction sera:\n",
        "\n",
        "$x_0=1$\n",
        "\n",
        "$x_1=x_1$\n",
        "\n",
        "$x_2=x_2$\n",
        "\n",
        "$x_3={x_1}^2$\n",
        "\n",
        "$x_4={x_1}x_2$\n",
        "\n",
        "$x_5={x_2}^2$\n",
        "\n",
        "$x_6={x_1}^3$\n",
        "\n",
        "$x_7={x_1}^2 x_2$\n",
        "\n",
        "$x_8= x_1 {x_2}^2$\n",
        "\n",
        "$x_9= {x_2}^3$\n",
        "\n",
        "...\n"
      ]
    },
    {
      "cell_type": "markdown",
      "metadata": {
        "id": "BBgmsVuvHvW8"
      },
      "source": [
        "Pour un polynme de degrée 6 à 2 variables nous aurons 28 caracteristiques\n",
        "\n",
        "**Question**: comment avons nous trouvé ce chiffre?\n",
        "\n",
        "**Astuce**: référez vous aux probabilités"
      ]
    },
    {
      "cell_type": "code",
      "execution_count": 37,
      "metadata": {
        "id": "wbNv_HWJHvW8"
      },
      "outputs": [],
      "source": [
        "def mapping(X):\n",
        "    \n",
        "    cols = 28\n",
        "    degree=7\n",
        "    outX= np.ones((X.shape[0],cols))\n",
        "    X1=X[:,1]\n",
        "    X2=X[:,2]\n",
        "    k=0\n",
        "    for i in range(degree):\n",
        "        for j in range(i+1):\n",
        "            outX[:, k] = np.power(X1,i-j)*(np.power(X2,j))\n",
        "            k=k+1\n",
        "    return outX    \n"
      ]
    },
    {
      "cell_type": "code",
      "execution_count": 7,
      "metadata": {
        "colab": {
          "base_uri": "https://localhost:8080/"
        },
        "id": "Ntd3N8y3HvW9",
        "outputId": "4e3ee886-9100-49c2-bcc6-283d1fcdd65c"
      },
      "outputs": [
        {
          "data": {
            "text/plain": [
              "(118, 28)"
            ]
          },
          "execution_count": 7,
          "metadata": {},
          "output_type": "execute_result"
        }
      ],
      "source": [
        "X2=mapping(X)\n",
        "X2.shape"
      ]
    },
    {
      "cell_type": "markdown",
      "metadata": {
        "id": "YQa5ugBeHvW-"
      },
      "source": [
        "# Descente du Gradient : Préparation des fonctions"
      ]
    },
    {
      "cell_type": "markdown",
      "metadata": {
        "id": "b3_b3BaHHvW_"
      },
      "source": [
        "0- Fonction mpgistique (Sigmoid)"
      ]
    },
    {
      "cell_type": "code",
      "execution_count": 8,
      "metadata": {
        "id": "YrEpfeibHvXA"
      },
      "outputs": [],
      "source": [
        "def Sigmoid(z):\n",
        "    # pour une valeur donnée, cette fonction calculera sa sigmoid\n",
        "    return 1/(1+np.exp(-z))\n",
        " "
      ]
    },
    {
      "cell_type": "code",
      "execution_count": 9,
      "metadata": {
        "colab": {
          "base_uri": "https://localhost:8080/"
        },
        "id": "8rp976ebHvXB",
        "outputId": "7c499820-0ecd-46de-8aef-83b111d12867"
      },
      "outputs": [
        {
          "data": {
            "text/plain": [
              "4.5397868702434395e-05"
            ]
          },
          "execution_count": 9,
          "metadata": {},
          "output_type": "execute_result"
        }
      ],
      "source": [
        "k=Sigmoid(-10)\n",
        "k"
      ]
    },
    {
      "cell_type": "markdown",
      "metadata": {
        "id": "kx7W87XTHvXC"
      },
      "source": [
        "1- Calcul du coût\n",
        "\n",
        "Cette fonction servira à calculer le cout $J(\\theta_0,\\theta_1)$\n",
        "\n",
        "Elle prendra l'ensemble de données d'apprentissage en entrée ainsi que les paramètres définis initialement"
      ]
    },
    {
      "cell_type": "code",
      "execution_count": 10,
      "metadata": {
        "id": "KVXwFzNFHvXD"
      },
      "outputs": [],
      "source": [
        "def computeCostReg(X, y, theta, lambda_reg):\n",
        "    m = y.shape[0]\n",
        "    h_theta = Sigmoid(X.dot(theta))\n",
        "    J = (-1/m) * (y.T.dot(np.log(h_theta)) + (1-y).T.dot(np.log(1-h_theta))) + (lambda_reg/(2*m)) * np.sum(np.square(theta[1:]))\n",
        "    return J\n"
      ]
    },
    {
      "cell_type": "markdown",
      "metadata": {
        "id": "NbfzxVbeHvXD"
      },
      "source": [
        "2- Fonction de la descente du gradient\n",
        "\n",
        "Cette fonction mettra à jour les paramètres $\\theta_0,\\theta_1$ jusqu'à convergence: atteinte du nombre d'itérations max, ou dérivée assez petite."
      ]
    },
    {
      "cell_type": "code",
      "execution_count": 11,
      "metadata": {
        "id": "_4APZEn6HvXE"
      },
      "outputs": [],
      "source": [
        "def gradientDescent(X, y, theta, alpha, iterations, lambda_reg=0):\n",
        "    m = y.size\n",
        "    J_history = np.zeros(iterations)\n",
        "    for i in range(iterations):\n",
        "        # Calcul de la prédiction pour toutes les observations\n",
        "        h = Sigmoid(X.dot(theta))\n",
        "        # Calcul de la régularisation pour tous les paramètres sauf theta_0\n",
        "        reg_term = (lambda_reg/(2*m)) * np.sum(np.square(theta[1:]))\n",
        "        # Mise à jour des paramètres theta\n",
        "        theta = theta - alpha*(1/m)*((X.T).dot(h-y) + lambda_reg*np.concatenate(([[0]], theta[1:])))\n",
        "        # Calcul du coût J et enregistrement dans l'historique\n",
        "        J_history[i] = computeCostReg(X, y, theta, lambda_reg)\n",
        "        \n",
        "    return theta, J_history\n"
      ]
    },
    {
      "cell_type": "markdown",
      "metadata": {
        "id": "xSAPUJpxHvXF"
      },
      "source": [
        "# Descente du Gradient : Appel des fonctions"
      ]
    },
    {
      "cell_type": "markdown",
      "metadata": {
        "id": "3nbD7lG4HvXF"
      },
      "source": [
        "Initialisation de $\\theta_0$ et $\\theta_1$"
      ]
    },
    {
      "cell_type": "code",
      "execution_count": 39,
      "metadata": {
        "colab": {
          "base_uri": "https://localhost:8080/"
        },
        "id": "M4QEtFcbHvXG",
        "outputId": "4cee218c-0de6-41d5-8bf0-a7168575ae43"
      },
      "outputs": [
        {
          "data": {
            "text/plain": [
              "array([[0.],\n",
              "       [0.],\n",
              "       [0.],\n",
              "       [0.],\n",
              "       [0.],\n",
              "       [0.],\n",
              "       [0.],\n",
              "       [0.],\n",
              "       [0.],\n",
              "       [0.],\n",
              "       [0.],\n",
              "       [0.],\n",
              "       [0.],\n",
              "       [0.],\n",
              "       [0.],\n",
              "       [0.],\n",
              "       [0.],\n",
              "       [0.],\n",
              "       [0.],\n",
              "       [0.],\n",
              "       [0.],\n",
              "       [0.],\n",
              "       [0.],\n",
              "       [0.],\n",
              "       [0.],\n",
              "       [0.],\n",
              "       [0.],\n",
              "       [0.]])"
            ]
          },
          "execution_count": 39,
          "metadata": {},
          "output_type": "execute_result"
        }
      ],
      "source": [
        "n=X.shape[1]\n",
        "theta = np.zeros((28, 1))\n",
        "theta"
      ]
    },
    {
      "cell_type": "markdown",
      "metadata": {
        "id": "ziWvmFBIHvXH"
      },
      "source": [
        "Calculer le cout initial"
      ]
    },
    {
      "cell_type": "code",
      "execution_count": 13,
      "metadata": {
        "colab": {
          "base_uri": "https://localhost:8080/"
        },
        "id": "O8JXkf0XHvXI",
        "outputId": "d803be05-d992-4726-a69a-28a3185148e0"
      },
      "outputs": [
        {
          "name": "stdout",
          "output_type": "stream",
          "text": [
            "[[0.69314718]]\n"
          ]
        }
      ],
      "source": [
        "\n",
        "lambda_reg = 1\n",
        "cost_initial = computeCostReg(X, y, theta, lambda_reg)\n",
        "print(cost_initial)\n"
      ]
    },
    {
      "cell_type": "markdown",
      "metadata": {
        "id": "niEIBDIxHvXM"
      },
      "source": [
        "Appel des la fonction de calcul du gradient"
      ]
    },
    {
      "cell_type": "code",
      "execution_count": 14,
      "metadata": {
        "colab": {
          "base_uri": "https://localhost:8080/"
        },
        "id": "hqPbnwUjHvXN",
        "outputId": "505294c1-8f03-4c8d-8506-6391a0eae5d2"
      },
      "outputs": [
        {
          "name": "stdout",
          "output_type": "stream",
          "text": [
            "[[-0.02599181]\n",
            " [-0.17112061]\n",
            " [ 0.00216978]]\n"
          ]
        }
      ],
      "source": [
        "# paramètres\n",
        "iterations = 1500\n",
        "alpha = 0.01\n",
        "\n",
        "# paramètre de regression\n",
        "\n",
        "lambda_reg = 1\n",
        "# Appel\n",
        "theta,J_history = gradientDescent(X, y, theta, alpha, iterations, lambda_reg)\n",
        "\n",
        "print(theta)"
      ]
    },
    {
      "cell_type": "markdown",
      "metadata": {
        "id": "6om8NYDqHvXN"
      },
      "source": [
        "Traçage de la fonction du coût"
      ]
    },
    {
      "cell_type": "markdown",
      "metadata": {
        "id": "Sj5kOTBQHvXN"
      },
      "source": [
        "Notons que $\\theta^T  x$ est équivalent à $X  \\theta $ où $X= \\begin{pmatrix}\n",
        "..(x^{(1)})^T..\\\\\n",
        "..(x^{(2)})^T..\\\\\n",
        ".\\\\\n",
        ".\\\\\n",
        ".\\\\\n",
        "..(x^{(m)})^T..\n",
        "\\end{pmatrix} $"
      ]
    },
    {
      "cell_type": "markdown",
      "metadata": {
        "id": "ZCe-hWbzHvXO"
      },
      "source": [
        "# Dessin de la limite de decision (Descision Boundary)\n",
        "Dans cette partie, nous aimerions dessiner la ligne separatrice d nos données"
      ]
    },
    {
      "cell_type": "code",
      "execution_count": 40,
      "metadata": {
        "id": "TwhUUexJHvXO"
      },
      "outputs": [],
      "source": [
        "def drawCircle(theta, axes):\n",
        "    u = np.linspace(-1, 1.5, 50)\n",
        "    v = np.linspace(-1, 1.5, 50)\n",
        "    U,V = np.meshgrid(u,v)\n",
        "    #transformer U et V en vecteurs\n",
        "    U = np.ravel(U)\n",
        "    V = np.ravel(V)\n",
        "    Z = np.zeros((len(u) * len(v)))\n",
        "    intercept=np.ones((U.shape[0],1))\n",
        "    x=np.column_stack((intercept,U,V))\n",
        "    X_poly = mapping(x)\n",
        "    Z = X_poly.dot(theta)\n",
        "    \n",
        "    # reshape U, V, Z back to matrix\n",
        "    U = U.reshape((len(u), len(v)))\n",
        "    V = V.reshape((len(u), len(v)))\n",
        "    Z = Z.reshape((len(u), len(v)))\n",
        "    \n",
        "    cs = axes.contour(U,V,Z,levels=[0],cmap= \"Greys_r\")\n",
        "    axes.legend(labels=['x1', 'x2', 'Decision Boundary'])\n",
        "    return cs"
      ]
    },
    {
      "cell_type": "markdown",
      "metadata": {
        "id": "0qLPLhFOHvXP"
      },
      "source": [
        "# Classification (Prédiction)\n",
        "Ici il serait interessant de calculer la prédiction en utilisant un seuil\n",
        "i.e. si h>seuil alors classe =1 sinon classe = 0"
      ]
    },
    {
      "cell_type": "code",
      "execution_count": 16,
      "metadata": {
        "id": "xFn1StZMHvXP"
      },
      "outputs": [],
      "source": [
        "def predict(X, theta):\n",
        "    # Calculer les probabilités des classes en utilisant la fonction sigmoid\n",
        "    proba = Sigmoid(np.dot(X, theta))\n",
        "\n",
        "    # Appliquer un seuil de 0.5 pour déterminer les classes\n",
        "    y_pred = np.where(proba >= 0.5, 1, 0)\n",
        "\n",
        "    return y_pred\n",
        "\n",
        "    \n"
      ]
    },
    {
      "cell_type": "markdown",
      "metadata": {
        "id": "rHj43htNHvXQ"
      },
      "source": [
        "# Affichage \n",
        "Graphe representant les acceptations selon les caracteristiques"
      ]
    },
    {
      "cell_type": "code",
      "execution_count": 41,
      "metadata": {
        "colab": {
          "base_uri": "https://localhost:8080/",
          "height": 473
        },
        "id": "tIuxMIAzHvXQ",
        "outputId": "049d5b0f-3e29-4013-c1ec-486ff6e0ba87"
      },
      "outputs": [
        {
          "data": {
            "text/plain": [
              "<matplotlib.contour.QuadContourSet at 0x7fea800e3dc0>"
            ]
          },
          "execution_count": 41,
          "metadata": {},
          "output_type": "execute_result"
        },
        {
          "data": {
            "image/png": "[encoded data removed]",
            "text/plain": [
              "<Figure size 640x480 with 1 Axes>"
            ]
          },
          "metadata": {},
          "output_type": "display_data"
        }
      ],
      "source": [
        "#plt.scatter(X[np.where(y==1),1],X[np.where(y==1),2], label=\"y=1\",marker ='o')\n",
        "#plt.scatter(X[np.where(y==0),1],X[np.where(y==0),2], label=\"y=0\",marker ='x')\n",
        "\n",
        "#plt.xlabel('x 1')\n",
        "#plt.ylabel('x 2')\n",
        "fig, axes = plt.subplots()\n",
        "axes.set_xlabel('x 1')\n",
        "axes.set_ylabel('x 2')\n",
        "plt.scatter(X[np.where(y==1),1],X[np.where(y==1),2], label=\"y=1\",marker ='o')\n",
        "plt.scatter(X[np.where(y==0),1],X[np.where(y==0),2], label=\"y=0\",marker ='x')\n",
        "plt.xlabel('x1')\n",
        "plt.ylabel('x2')\n",
        "drawCircle(theta,axes)\n",
        "\n",
        "\n"
      ]
    },
    {
      "cell_type": "markdown",
      "metadata": {
        "id": "y8otrKXrHvXR"
      },
      "source": [
        "Traçage du coût en fonction de theta0 et theta1"
      ]
    },
    {
      "cell_type": "code",
      "execution_count": 26,
      "metadata": {
        "colab": {
          "base_uri": "https://localhost:8080/",
          "height": 485
        },
        "id": "kdY47YJ7HvXR",
        "outputId": "8101433b-ca53-4461-8d94-3fa4fa6653c7"
      },
      "outputs": [
        {
          "name": "stdout",
          "output_type": "stream",
          "text": [
            "Loss :  0.6908867948445119\n"
          ]
        },
        {
          "data": {
            "text/plain": [
              "Text(0, 0.5, 'Loss')"
            ]
          },
          "execution_count": 26,
          "metadata": {},
          "output_type": "execute_result"
        },
        {
          "data": {
            "image/png": "[encoded data removed]",
            "text/plain": [
              "<Figure size 640x480 with 1 Axes>"
            ]
          },
          "metadata": {},
          "output_type": "display_data"
        }
      ],
      "source": [
        "print('Loss : ',J_history[-1])\n",
        "plt.plot(J_history)\n",
        "plt.xlabel('Iterations')\n",
        "plt.ylabel('Loss')"
      ]
    },
    {
      "cell_type": "markdown",
      "metadata": {
        "id": "wA0w6qtGHvXS"
      },
      "source": [
        "# Qualité du classifieur\n",
        "\n",
        "Prédire des valeurs de y\n",
        "\n",
        "Ici il serait interessant de calculer la précision de notre classifieur\n",
        "\n",
        "Essayons de calculer ça avec \n",
        "\n",
        "moyenne(y==y-pred) * 100\n",
        "\n",
        "Ceci donnera un pourcentage de precision"
      ]
    },
    {
      "cell_type": "code",
      "execution_count": 23,
      "metadata": {
        "colab": {
          "base_uri": "https://localhost:8080/"
        },
        "id": "JKt-6ThPHvXS",
        "outputId": "948cfc4f-8d74-4411-dd0d-41d6f5dd168c"
      },
      "outputs": [
        {
          "name": "stdout",
          "output_type": "stream",
          "text": [
            "Precision :  50.18672795173801\n"
          ]
        }
      ],
      "source": [
        "# calcul de precision = nombre de valeurs bien prédites (ici sur toute la base X)\n",
        "y_pred=predict(X,theta)\n",
        "prcision = np.mean(y==y_pred)*100\n",
        "print('Precision : ',prcision)"
      ]
    },
    {
      "cell_type": "markdown",
      "metadata": {
        "id": "0Psz3wQ4HvXT"
      },
      "source": [
        "# Vérification de l'implementation\n",
        "Comparer vos algorithmes à ceux de scikitlearn"
      ]
    },
    {
      "cell_type": "code",
      "execution_count": 25,
      "metadata": {
        "colab": {
          "base_uri": "https://localhost:8080/",
          "height": 491
        },
        "id": "76ko4fFHHvXT",
        "outputId": "3149e979-38c9-49d5-92a8-894b45702ee7"
      },
      "outputs": [
        {
          "name": "stdout",
          "output_type": "stream",
          "text": [
            "Precision :  64.40677966101694\n"
          ]
        },
        {
          "data": {
            "text/plain": [
              "<matplotlib.contour.QuadContourSet at 0x7fea80591e70>"
            ]
          },
          "execution_count": 25,
          "metadata": {},
          "output_type": "execute_result"
        },
        {
          "data": {
            "image/png": "[encoded data removed]",
            "text/plain": [
              "<Figure size 640x480 with 1 Axes>"
            ]
          },
          "metadata": {},
          "output_type": "display_data"
        }
      ],
      "source": [
        "skmodel = sklearn.LogisticRegression(C= 0.0082)\n",
        "skmodel.fit(X2,y)\n",
        "sk_predict = skmodel.score(X2,y)\n",
        "print('Precision : ',sk_predict*100)\n",
        "fig, axes = plt.subplots()\n",
        "axes.set_xlabel('x 1')\n",
        "axes.set_ylabel('x 2')\n",
        "plt.scatter(X[np.where(y==1),1],X[np.where(y==1),2], label=\"y=1\",marker ='o')\n",
        "plt.scatter(X[np.where(y==0),1],X[np.where(y==0),2], label=\"y=0\",marker ='x')\n",
        "plt.xlabel('x1')\n",
        "plt.ylabel('x2')\n",
        "drawCircle(skmodel.coef_.T + skmodel.intercept_ ,axes)\n"
      ]
    },
    {
      "cell_type": "markdown",
      "metadata": {
        "id": "G3LbGo28HvXT"
      },
      "source": [
        "# Renforcement d'apprentissage\n",
        "Mettre ici toute idée qui pourrait renforcer votre apprentissage"
      ]
    },
    {
      "cell_type": "code",
      "execution_count": null,
      "metadata": {
        "id": "s1h9GKpgHvXU"
      },
      "outputs": [],
      "source": []
    },
    {
      "cell_type": "markdown",
      "metadata": {
        "id": "-YoBdIwTHvXW"
      },
      "source": [
        "# Consignes"
      ]
    },
    {
      "cell_type": "code",
      "execution_count": null,
      "metadata": {
        "id": "PJYqKBD_HvXX"
      },
      "outputs": [],
      "source": []
    }
  ],
  "metadata": {
    "colab": {
      "provenance": []
    },
    "kernelspec": {
      "display_name": "Python 3",
      "language": "python",
      "name": "python3"
    },
    "language_info": {
      "codemirror_mode": {
        "name": "ipython",
        "version": 3
      },
      "file_extension": ".py",
      "mimetype": "text/x-python",
      "name": "python",
      "nbconvert_exporter": "python",
      "pygments_lexer": "ipython3",
      "version": "3.7.3"
    }
  },
  "nbformat": 4,
  "nbformat_minor": 0
}
